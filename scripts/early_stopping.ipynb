{
 "cells": [
  {
   "cell_type": "code",
   "execution_count": 3,
   "metadata": {},
   "outputs": [],
   "source": [
    "import matplotlib.pyplot as plt\n",
    "import pandas as pd"
   ]
  },
  {
   "cell_type": "code",
   "execution_count": 5,
   "metadata": {},
   "outputs": [],
   "source": [
    "train = pd.read_csv(\"data/CNN14_BASE_train.csv\") \n",
    "val = pd.read_csv(\"data/CNN14_BASE_val.csv\") "
   ]
  },
  {
   "cell_type": "code",
   "execution_count": 6,
   "metadata": {},
   "outputs": [
    {
     "data": {
      "text/html": [
       "<div>\n",
       "<style scoped>\n",
       "    .dataframe tbody tr th:only-of-type {\n",
       "        vertical-align: middle;\n",
       "    }\n",
       "\n",
       "    .dataframe tbody tr th {\n",
       "        vertical-align: top;\n",
       "    }\n",
       "\n",
       "    .dataframe thead th {\n",
       "        text-align: right;\n",
       "    }\n",
       "</style>\n",
       "<table border=\"1\" class=\"dataframe\">\n",
       "  <thead>\n",
       "    <tr style=\"text-align: right;\">\n",
       "      <th></th>\n",
       "      <th>Wall time</th>\n",
       "      <th>Step</th>\n",
       "      <th>Value</th>\n",
       "    </tr>\n",
       "  </thead>\n",
       "  <tbody>\n",
       "    <tr>\n",
       "      <th>0</th>\n",
       "      <td>1.716811e+09</td>\n",
       "      <td>1</td>\n",
       "      <td>10.259134</td>\n",
       "    </tr>\n",
       "    <tr>\n",
       "      <th>1</th>\n",
       "      <td>1.716812e+09</td>\n",
       "      <td>2</td>\n",
       "      <td>4.765421</td>\n",
       "    </tr>\n",
       "    <tr>\n",
       "      <th>2</th>\n",
       "      <td>1.716812e+09</td>\n",
       "      <td>3</td>\n",
       "      <td>4.271005</td>\n",
       "    </tr>\n",
       "    <tr>\n",
       "      <th>3</th>\n",
       "      <td>1.716812e+09</td>\n",
       "      <td>4</td>\n",
       "      <td>3.866207</td>\n",
       "    </tr>\n",
       "    <tr>\n",
       "      <th>4</th>\n",
       "      <td>1.716813e+09</td>\n",
       "      <td>5</td>\n",
       "      <td>3.416009</td>\n",
       "    </tr>\n",
       "  </tbody>\n",
       "</table>\n",
       "</div>"
      ],
      "text/plain": [
       "      Wall time  Step      Value\n",
       "0  1.716811e+09     1  10.259134\n",
       "1  1.716812e+09     2   4.765421\n",
       "2  1.716812e+09     3   4.271005\n",
       "3  1.716812e+09     4   3.866207\n",
       "4  1.716813e+09     5   3.416009"
      ]
     },
     "execution_count": 6,
     "metadata": {},
     "output_type": "execute_result"
    }
   ],
   "source": [
    "train.head()"
   ]
  },
  {
   "cell_type": "code",
   "execution_count": 7,
   "metadata": {},
   "outputs": [
    {
     "data": {
      "text/html": [
       "<div>\n",
       "<style scoped>\n",
       "    .dataframe tbody tr th:only-of-type {\n",
       "        vertical-align: middle;\n",
       "    }\n",
       "\n",
       "    .dataframe tbody tr th {\n",
       "        vertical-align: top;\n",
       "    }\n",
       "\n",
       "    .dataframe thead th {\n",
       "        text-align: right;\n",
       "    }\n",
       "</style>\n",
       "<table border=\"1\" class=\"dataframe\">\n",
       "  <thead>\n",
       "    <tr style=\"text-align: right;\">\n",
       "      <th></th>\n",
       "      <th>Wall time</th>\n",
       "      <th>Step</th>\n",
       "      <th>Value</th>\n",
       "    </tr>\n",
       "  </thead>\n",
       "  <tbody>\n",
       "    <tr>\n",
       "      <th>0</th>\n",
       "      <td>1.716811e+09</td>\n",
       "      <td>1</td>\n",
       "      <td>6.178718</td>\n",
       "    </tr>\n",
       "    <tr>\n",
       "      <th>1</th>\n",
       "      <td>1.716812e+09</td>\n",
       "      <td>2</td>\n",
       "      <td>4.496134</td>\n",
       "    </tr>\n",
       "    <tr>\n",
       "      <th>2</th>\n",
       "      <td>1.716812e+09</td>\n",
       "      <td>3</td>\n",
       "      <td>4.106415</td>\n",
       "    </tr>\n",
       "    <tr>\n",
       "      <th>3</th>\n",
       "      <td>1.716812e+09</td>\n",
       "      <td>4</td>\n",
       "      <td>3.482792</td>\n",
       "    </tr>\n",
       "    <tr>\n",
       "      <th>4</th>\n",
       "      <td>1.716813e+09</td>\n",
       "      <td>5</td>\n",
       "      <td>3.230376</td>\n",
       "    </tr>\n",
       "  </tbody>\n",
       "</table>\n",
       "</div>"
      ],
      "text/plain": [
       "      Wall time  Step     Value\n",
       "0  1.716811e+09     1  6.178718\n",
       "1  1.716812e+09     2  4.496134\n",
       "2  1.716812e+09     3  4.106415\n",
       "3  1.716812e+09     4  3.482792\n",
       "4  1.716813e+09     5  3.230376"
      ]
     },
     "execution_count": 7,
     "metadata": {},
     "output_type": "execute_result"
    }
   ],
   "source": [
    "val.head()"
   ]
  },
  {
   "cell_type": "code",
   "execution_count": 8,
   "metadata": {},
   "outputs": [
    {
     "data": {
      "text/html": [
       "<div>\n",
       "<style scoped>\n",
       "    .dataframe tbody tr th:only-of-type {\n",
       "        vertical-align: middle;\n",
       "    }\n",
       "\n",
       "    .dataframe tbody tr th {\n",
       "        vertical-align: top;\n",
       "    }\n",
       "\n",
       "    .dataframe thead th {\n",
       "        text-align: right;\n",
       "    }\n",
       "</style>\n",
       "<table border=\"1\" class=\"dataframe\">\n",
       "  <thead>\n",
       "    <tr style=\"text-align: right;\">\n",
       "      <th></th>\n",
       "      <th>Wall time</th>\n",
       "      <th>Step</th>\n",
       "      <th>Value</th>\n",
       "      <th>Val_value</th>\n",
       "    </tr>\n",
       "  </thead>\n",
       "  <tbody>\n",
       "    <tr>\n",
       "      <th>0</th>\n",
       "      <td>1.716811e+09</td>\n",
       "      <td>1</td>\n",
       "      <td>10.259134</td>\n",
       "      <td>6.178718</td>\n",
       "    </tr>\n",
       "    <tr>\n",
       "      <th>1</th>\n",
       "      <td>1.716812e+09</td>\n",
       "      <td>2</td>\n",
       "      <td>4.765421</td>\n",
       "      <td>4.496134</td>\n",
       "    </tr>\n",
       "    <tr>\n",
       "      <th>2</th>\n",
       "      <td>1.716812e+09</td>\n",
       "      <td>3</td>\n",
       "      <td>4.271005</td>\n",
       "      <td>4.106415</td>\n",
       "    </tr>\n",
       "    <tr>\n",
       "      <th>3</th>\n",
       "      <td>1.716812e+09</td>\n",
       "      <td>4</td>\n",
       "      <td>3.866207</td>\n",
       "      <td>3.482792</td>\n",
       "    </tr>\n",
       "    <tr>\n",
       "      <th>4</th>\n",
       "      <td>1.716813e+09</td>\n",
       "      <td>5</td>\n",
       "      <td>3.416009</td>\n",
       "      <td>3.230376</td>\n",
       "    </tr>\n",
       "  </tbody>\n",
       "</table>\n",
       "</div>"
      ],
      "text/plain": [
       "      Wall time  Step      Value  Val_value\n",
       "0  1.716811e+09     1  10.259134   6.178718\n",
       "1  1.716812e+09     2   4.765421   4.496134\n",
       "2  1.716812e+09     3   4.271005   4.106415\n",
       "3  1.716812e+09     4   3.866207   3.482792\n",
       "4  1.716813e+09     5   3.416009   3.230376"
      ]
     },
     "execution_count": 8,
     "metadata": {},
     "output_type": "execute_result"
    }
   ],
   "source": [
    "train.rename(columns={\"Value\": \"Train_value\"})\n",
    "train[\"Val_value\"] = val[\"Value\"]\n",
    "train.head()"
   ]
  },
  {
   "cell_type": "code",
   "execution_count": 10,
   "metadata": {},
   "outputs": [
    {
     "data": {
      "text/html": [
       "<div>\n",
       "<style scoped>\n",
       "    .dataframe tbody tr th:only-of-type {\n",
       "        vertical-align: middle;\n",
       "    }\n",
       "\n",
       "    .dataframe tbody tr th {\n",
       "        vertical-align: top;\n",
       "    }\n",
       "\n",
       "    .dataframe thead th {\n",
       "        text-align: right;\n",
       "    }\n",
       "</style>\n",
       "<table border=\"1\" class=\"dataframe\">\n",
       "  <thead>\n",
       "    <tr style=\"text-align: right;\">\n",
       "      <th></th>\n",
       "      <th>Wall time</th>\n",
       "      <th>Step</th>\n",
       "      <th>Value</th>\n",
       "      <th>Val_value</th>\n",
       "    </tr>\n",
       "  </thead>\n",
       "  <tbody>\n",
       "    <tr>\n",
       "      <th>count</th>\n",
       "      <td>5.000000e+01</td>\n",
       "      <td>50.00000</td>\n",
       "      <td>50.000000</td>\n",
       "      <td>50.000000</td>\n",
       "    </tr>\n",
       "    <tr>\n",
       "      <th>mean</th>\n",
       "      <td>1.716819e+09</td>\n",
       "      <td>25.50000</td>\n",
       "      <td>1.066757</td>\n",
       "      <td>2.625970</td>\n",
       "    </tr>\n",
       "    <tr>\n",
       "      <th>std</th>\n",
       "      <td>4.496253e+03</td>\n",
       "      <td>14.57738</td>\n",
       "      <td>1.790472</td>\n",
       "      <td>0.687911</td>\n",
       "    </tr>\n",
       "    <tr>\n",
       "      <th>min</th>\n",
       "      <td>1.716811e+09</td>\n",
       "      <td>1.00000</td>\n",
       "      <td>0.067783</td>\n",
       "      <td>1.996428</td>\n",
       "    </tr>\n",
       "    <tr>\n",
       "      <th>25%</th>\n",
       "      <td>1.716815e+09</td>\n",
       "      <td>13.25000</td>\n",
       "      <td>0.104230</td>\n",
       "      <td>2.295770</td>\n",
       "    </tr>\n",
       "    <tr>\n",
       "      <th>50%</th>\n",
       "      <td>1.716819e+09</td>\n",
       "      <td>25.50000</td>\n",
       "      <td>0.288812</td>\n",
       "      <td>2.536442</td>\n",
       "    </tr>\n",
       "    <tr>\n",
       "      <th>75%</th>\n",
       "      <td>1.716822e+09</td>\n",
       "      <td>37.75000</td>\n",
       "      <td>1.181253</td>\n",
       "      <td>2.653024</td>\n",
       "    </tr>\n",
       "    <tr>\n",
       "      <th>max</th>\n",
       "      <td>1.716827e+09</td>\n",
       "      <td>50.00000</td>\n",
       "      <td>10.259134</td>\n",
       "      <td>6.178718</td>\n",
       "    </tr>\n",
       "  </tbody>\n",
       "</table>\n",
       "</div>"
      ],
      "text/plain": [
       "          Wall time      Step      Value  Val_value\n",
       "count  5.000000e+01  50.00000  50.000000  50.000000\n",
       "mean   1.716819e+09  25.50000   1.066757   2.625970\n",
       "std    4.496253e+03  14.57738   1.790472   0.687911\n",
       "min    1.716811e+09   1.00000   0.067783   1.996428\n",
       "25%    1.716815e+09  13.25000   0.104230   2.295770\n",
       "50%    1.716819e+09  25.50000   0.288812   2.536442\n",
       "75%    1.716822e+09  37.75000   1.181253   2.653024\n",
       "max    1.716827e+09  50.00000  10.259134   6.178718"
      ]
     },
     "execution_count": 10,
     "metadata": {},
     "output_type": "execute_result"
    }
   ],
   "source": [
    "train.describe()"
   ]
  },
  {
   "cell_type": "code",
   "execution_count": 12,
   "metadata": {},
   "outputs": [
    {
     "data": {
      "image/png": "[encoded data removed]",
      "text/plain": [
       "<Figure size 640x480 with 1 Axes>"
      ]
     },
     "metadata": {},
     "output_type": "display_data"
    }
   ],
   "source": [
    "plt.figure()\n",
    "plt.plot(train[\"Step\"], train[\"Value\"], label=\"train_loss\")\n",
    "plt.plot(train[\"Step\"], train[\"Val_value\"], label=\"val_loss\")\n",
    "plt.axvline(x=15, color='red', linestyle='--')\n",
    "plt.xlabel('Epoch')\n",
    "plt.ylabel('Loss')\n",
    "plt.title('CNN14_BASE loss')\n",
    "plt.legend(loc=\"lower right\")\n",
    "plt.grid(True)\n",
    "plt.show()"
   ]
  }
 ],
 "metadata": {
  "kernelspec": {
   "display_name": "thesis",
   "language": "python",
   "name": "python3"
  },
  "language_info": {
   "codemirror_mode": {
    "name": "ipython",
    "version": 3
   },
   "file_extension": ".py",
   "mimetype": "text/x-python",
   "name": "python",
   "nbconvert_exporter": "python",
   "pygments_lexer": "ipython3",
   "version": "3.11.5"
  }
 },
 "nbformat": 4,
 "nbformat_minor": 2
}
