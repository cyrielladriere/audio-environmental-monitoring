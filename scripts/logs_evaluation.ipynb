{
 "cells": [
  {
   "cell_type": "code",
   "execution_count": 88,
   "metadata": {},
   "outputs": [],
   "source": [
    "from tbparse import SummaryReader\n",
    "import pandas as pd\n",
    "import numpy as np\n",
    "import os"
   ]
  },
  {
   "cell_type": "markdown",
   "metadata": {},
   "source": [
    "unique \"tag\" fields in reader.scalars:\n",
    "\n",
    "array(['Confusion_Matrix/FN/train', 'Confusion_Matrix/FN/val',\n",
    "       'Confusion_Matrix/FP/train', 'Confusion_Matrix/FP/val',\n",
    "       'Confusion_Matrix/TN/train', 'Confusion_Matrix/TN/val',\n",
    "       'Confusion_Matrix/TP/train', 'Confusion_Matrix/TP/val',\n",
    "       'accuracy/train', 'accuracy/val', 'f1/train', 'f1/val',\n",
    "       'loss/train', 'loss/val', 'lr', 'precision/train', 'precision/val',\n",
    "       'recall/train', 'recall/val', 'time', 'val_lwlrap'], dtype=object)"
   ]
  },
  {
   "cell_type": "code",
   "execution_count": 89,
   "metadata": {},
   "outputs": [],
   "source": [
    "def get_values(log_dir):\n",
    "    val_lwlrap_list = []\n",
    "    best_epoch_list = []\n",
    "\n",
    "    for time in os.listdir(log_dir):\n",
    "        time = os.path.join(log_dir, time)\n",
    "        for file in os.listdir(time):\n",
    "            if file.endswith(\".pt\"):\n",
    "                continue\n",
    "            log_file = os.path.join(time, file)\n",
    "            reader = SummaryReader(log_file)\n",
    "            df = reader.scalars\n",
    "\n",
    "            val_loss_df = df.loc[df['tag'] == \"loss/val\"]\n",
    "            best_epoch = val_loss_df[val_loss_df[\"value\"] == val_loss_df[\"value\"].min()][\"step\"]\n",
    "            best_epoch = int(best_epoch.iloc[0])\n",
    "            best_epoch_list.append(best_epoch)\n",
    "\n",
    "            val_lwlrap_df = df.loc[df['tag'] == \"val_lwlrap\"]\n",
    "            val_lwlrap = val_lwlrap_df[val_lwlrap_df[\"step\"] == best_epoch][\"value\"]\n",
    "            val_lwlrap = float(val_lwlrap.iloc[0])\n",
    "            val_lwlrap_list.append(val_lwlrap)\n",
    "    \n",
    "    return np.array(val_lwlrap_list), np.array(best_epoch_list)\n"
   ]
  },
  {
   "cell_type": "code",
   "execution_count": 90,
   "metadata": {},
   "outputs": [
    {
     "data": {
      "text/plain": [
       "(              0\n",
       " count  5.000000\n",
       " mean   0.695486\n",
       " std    0.016152\n",
       " min    0.674609\n",
       " 25%    0.682055\n",
       " 50%    0.703646\n",
       " 75%    0.705487\n",
       " max    0.711632,\n",
       "               0\n",
       " count   5.00000\n",
       " mean   31.00000\n",
       " std     4.84768\n",
       " min    26.00000\n",
       " 25%    27.00000\n",
       " 50%    30.00000\n",
       " 75%    35.00000\n",
       " max    37.00000)"
      ]
     },
     "execution_count": 90,
     "metadata": {},
     "output_type": "execute_result"
    }
   ],
   "source": [
    "val_lwlrap, best_epoch = get_values(\"../compression/runs/L1_PRUNING\")\n",
    "val_lwlrap = pd.DataFrame(val_lwlrap)\n",
    "best_epoch = pd.DataFrame(best_epoch)\n",
    "val_lwlrap.describe(), best_epoch.describe()"
   ]
  },
  {
   "cell_type": "code",
   "execution_count": 91,
   "metadata": {},
   "outputs": [
    {
     "data": {
      "text/plain": [
       "(              0\n",
       " count  5.000000\n",
       " mean   0.674700\n",
       " std    0.012906\n",
       " min    0.659348\n",
       " 25%    0.667890\n",
       " 50%    0.674810\n",
       " 75%    0.677328\n",
       " max    0.694123,\n",
       "                0\n",
       " count   5.000000\n",
       " mean   25.400000\n",
       " std     3.361547\n",
       " min    21.000000\n",
       " 25%    24.000000\n",
       " 50%    25.000000\n",
       " 75%    27.000000\n",
       " max    30.000000)"
      ]
     },
     "execution_count": 91,
     "metadata": {},
     "output_type": "execute_result"
    }
   ],
   "source": [
    "val_lwlrap, best_epoch = get_values(\"../compression/runs/OPNORM_PRUNING\")\n",
    "val_lwlrap = pd.DataFrame(val_lwlrap)\n",
    "best_epoch = pd.DataFrame(best_epoch)\n",
    "val_lwlrap.describe(), best_epoch.describe()"
   ]
  },
  {
   "cell_type": "code",
   "execution_count": 92,
   "metadata": {},
   "outputs": [
    {
     "data": {
      "text/plain": [
       "(              0\n",
       " count  5.000000\n",
       " mean   0.744860\n",
       " std    0.010370\n",
       " min    0.734429\n",
       " 25%    0.739163\n",
       " 50%    0.742154\n",
       " 75%    0.747059\n",
       " max    0.761495,\n",
       "                0\n",
       " count   5.000000\n",
       " mean   17.600000\n",
       " std     1.341641\n",
       " min    16.000000\n",
       " 25%    17.000000\n",
       " 50%    17.000000\n",
       " 75%    19.000000\n",
       " max    19.000000)"
      ]
     },
     "execution_count": 92,
     "metadata": {},
     "output_type": "execute_result"
    }
   ],
   "source": [
    "val_lwlrap, best_epoch = get_values(\"../compression/runs/PANN\")\n",
    "val_lwlrap = pd.DataFrame(val_lwlrap)\n",
    "best_epoch = pd.DataFrame(best_epoch)\n",
    "val_lwlrap.describe(), best_epoch.describe()"
   ]
  },
  {
   "cell_type": "code",
   "execution_count": 93,
   "metadata": {},
   "outputs": [
    {
     "data": {
      "text/plain": [
       "(              0\n",
       " count  4.000000\n",
       " mean   0.656892\n",
       " std    0.009852\n",
       " min    0.642557\n",
       " 25%    0.654887\n",
       " 50%    0.660102\n",
       " 75%    0.662107\n",
       " max    0.664807,\n",
       "                 0\n",
       " count    4.000000\n",
       " mean   237.000000\n",
       " std     39.285281\n",
       " min    206.000000\n",
       " 25%    212.000000\n",
       " 50%    224.500000\n",
       " 75%    249.500000\n",
       " max    293.000000)"
      ]
     },
     "execution_count": 93,
     "metadata": {},
     "output_type": "execute_result"
    }
   ],
   "source": [
    "val_lwlrap, best_epoch = get_values(\"../compression/runs/PANN_QAT\")\n",
    "val_lwlrap = pd.DataFrame(val_lwlrap)\n",
    "best_epoch = pd.DataFrame(best_epoch)\n",
    "val_lwlrap.describe(), best_epoch.describe()"
   ]
  },
  {
   "cell_type": "code",
   "execution_count": 94,
   "metadata": {},
   "outputs": [
    {
     "data": {
      "text/plain": [
       "(              0\n",
       " count  5.000000\n",
       " mean   0.758531\n",
       " std    0.005908\n",
       " min    0.748839\n",
       " 25%    0.757705\n",
       " 50%    0.759742\n",
       " 75%    0.762834\n",
       " max    0.763533,\n",
       "                0\n",
       " count   5.000000\n",
       " mean   12.200000\n",
       " std     5.761944\n",
       " min     6.000000\n",
       " 25%     7.000000\n",
       " 50%    12.000000\n",
       " 75%    18.000000\n",
       " max    18.000000)"
      ]
     },
     "execution_count": 94,
     "metadata": {},
     "output_type": "execute_result"
    }
   ],
   "source": [
    "val_lwlrap, best_epoch = get_values(\"../compression/runs/PANN_QAT_v2\")\n",
    "val_lwlrap = pd.DataFrame(val_lwlrap)\n",
    "best_epoch = pd.DataFrame(best_epoch)\n",
    "val_lwlrap.describe(), best_epoch.describe()"
   ]
  }
 ],
 "metadata": {
  "kernelspec": {
   "display_name": "thesis",
   "language": "python",
   "name": "python3"
  },
  "language_info": {
   "codemirror_mode": {
    "name": "ipython",
    "version": 3
   },
   "file_extension": ".py",
   "mimetype": "text/x-python",
   "name": "python",
   "nbconvert_exporter": "python",
   "pygments_lexer": "ipython3",
   "version": "3.11.5"
  }
 },
 "nbformat": 4,
 "nbformat_minor": 2
}
